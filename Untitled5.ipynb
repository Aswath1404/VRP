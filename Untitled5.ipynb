{
  "nbformat": 4,
  "nbformat_minor": 0,
  "metadata": {
    "colab": {
      "provenance": []
    },
    "kernelspec": {
      "name": "python3",
      "display_name": "Python 3"
    },
    "language_info": {
      "name": "python"
    }
  },
  "cells": [
    {
      "cell_type": "code",
      "execution_count": 68,
      "metadata": {
        "colab": {
          "base_uri": "https://localhost:8080/"
        },
        "id": "7oXfS7w7Pv5q",
        "outputId": "f0a901b1-c7e9-406b-deda-5dc82ed01cc2"
      },
      "outputs": [
        {
          "output_type": "stream",
          "name": "stdout",
          "text": [
            "Requirement already satisfied: matplotlib in /usr/local/lib/python3.10/dist-packages (3.10.0)\n",
            "Requirement already satisfied: deap in /usr/local/lib/python3.10/dist-packages (1.4.1)\n",
            "Requirement already satisfied: contourpy>=1.0.1 in /usr/local/lib/python3.10/dist-packages (from matplotlib) (1.3.1)\n",
            "Requirement already satisfied: cycler>=0.10 in /usr/local/lib/python3.10/dist-packages (from matplotlib) (0.12.1)\n",
            "Requirement already satisfied: fonttools>=4.22.0 in /usr/local/lib/python3.10/dist-packages (from matplotlib) (4.55.3)\n",
            "Requirement already satisfied: kiwisolver>=1.3.1 in /usr/local/lib/python3.10/dist-packages (from matplotlib) (1.4.8)\n",
            "Requirement already satisfied: numpy>=1.23 in /usr/local/lib/python3.10/dist-packages (from matplotlib) (1.26.4)\n",
            "Requirement already satisfied: packaging>=20.0 in /usr/local/lib/python3.10/dist-packages (from matplotlib) (24.2)\n",
            "Requirement already satisfied: pillow>=8 in /usr/local/lib/python3.10/dist-packages (from matplotlib) (11.1.0)\n",
            "Requirement already satisfied: pyparsing>=2.3.1 in /usr/local/lib/python3.10/dist-packages (from matplotlib) (3.2.1)\n",
            "Requirement already satisfied: python-dateutil>=2.7 in /usr/local/lib/python3.10/dist-packages (from matplotlib) (2.8.2)\n",
            "Requirement already satisfied: six>=1.5 in /usr/local/lib/python3.10/dist-packages (from python-dateutil>=2.7->matplotlib) (1.17.0)\n"
          ]
        }
      ],
      "source": [
        "!pip install matplotlib deap"
      ]
    },
    {
      "cell_type": "code",
      "source": [
        "import random\n",
        "import math\n",
        "import numpy as np\n",
        "import matplotlib.pyplot as plt\n",
        "from deap import base, creator, tools, algorithms"
      ],
      "metadata": {
        "id": "RY6NX6juQnwd"
      },
      "execution_count": 69,
      "outputs": []
    },
    {
      "cell_type": "code",
      "source": [
        "num_location = 15\n",
        "\n",
        "location =  [(random.randint(0, 100),random.randint(0, 100)) for _ in range(num_location)]\n",
        "\n",
        "depot = (50,50)\n",
        "\n",
        "num_vehicles = 5"
      ],
      "metadata": {
        "id": "W2FWZIWoQphJ"
      },
      "execution_count": 94,
      "outputs": []
    },
    {
      "cell_type": "code",
      "source": [
        "\n",
        "creator.create(\"FitnessMin\", base.Fitness, weights=(-1.0,-1.0) )\n",
        "creator.create(\"Individual\", list, fitness=creator.FitnessMin)"
      ],
      "metadata": {
        "id": "vAtJISytTPQ1",
        "collapsed": true,
        "colab": {
          "base_uri": "https://localhost:8080/"
        },
        "outputId": "3228a0b0-be96-469b-fe44-2322666f14b3"
      },
      "execution_count": 95,
      "outputs": [
        {
          "output_type": "stream",
          "name": "stderr",
          "text": [
            "/usr/local/lib/python3.10/dist-packages/deap/creator.py:185: RuntimeWarning: A class named 'FitnessMin' has already been created and it will be overwritten. Consider deleting previous creation of that class or rename it.\n",
            "  warnings.warn(\"A class named '{0}' has already been created and it \"\n",
            "/usr/local/lib/python3.10/dist-packages/deap/creator.py:185: RuntimeWarning: A class named 'Individual' has already been created and it will be overwritten. Consider deleting previous creation of that class or rename it.\n",
            "  warnings.warn(\"A class named '{0}' has already been created and it \"\n"
          ]
        }
      ]
    },
    {
      "cell_type": "code",
      "source": [
        "toolbox = base.Toolbox()\n",
        "toolbox.register(\"indices\", random.sample, range(num_location), num_location)\n",
        "toolbox.register(\"individual\", tools.initIterate, creator.Individual, toolbox.indices)\n",
        "toolbox.register(\"population\",tools.initRepeat, list, toolbox.individual)"
      ],
      "metadata": {
        "id": "8kiTpSAtUovj"
      },
      "execution_count": 96,
      "outputs": []
    },
    {
      "cell_type": "code",
      "source": [
        "\n",
        "def evalVRP(individual):\n",
        "    total_distance = 0\n",
        "    distances = []\n",
        "    for i in range(num_vehicles):\n",
        "\n",
        "        vehicle_route = [depot] + [location[individual[j]] for j in range(i, len(individual), num_vehicles)] + [depot]\n",
        "\n",
        "        vehicle_distance = 0\n",
        "        for k in range(len(vehicle_route) - 1):\n",
        "            vehicle_distance +=  np.linalg.norm(np.array(vehicle_route[k+1]) - np.array(vehicle_route[k]))\n",
        "\n",
        "\n",
        "\n",
        "\n",
        "        total_distance += vehicle_distance\n",
        "        distances.append(vehicle_distance)\n",
        "\n",
        "    balance_penalty = np.std(distances)\n",
        "    return total_distance, balance_penalty\n",
        "\n",
        "toolbox.register(\"evaluate\", evalVRP)\n",
        "\n",
        "\n"
      ],
      "metadata": {
        "id": "sWwBisr_ZgIa"
      },
      "execution_count": 97,
      "outputs": []
    },
    {
      "cell_type": "code",
      "source": [
        "toolbox.register(\"mate\", tools.cxPartialyMatched)\n",
        "toolbox.register(\"select\", tools.selTournament, tournsize = 3)\n",
        "toolbox.register(\"mutate\", tools.mutShuffleIndexes, indpb = 0.05)"
      ],
      "metadata": {
        "id": "mkWyqlAWdFWu"
      },
      "execution_count": 98,
      "outputs": []
    },
    {
      "cell_type": "code",
      "source": [
        "\n",
        "def plot_routes(individual, title=\"Routes\"):\n",
        "    plt.figure()\n",
        "\n",
        "    for (x, y) in location:\n",
        "        plt.plot(x, y, 'bo')\n",
        "    plt.plot(depot[0], depot[1], 'rs')\n",
        "\n",
        "    for i in range(num_vehicles):\n",
        "        vehicle_route = [depot] + [location[individual[j]] for j in range(i, len(individual), num_vehicles)] + [depot]\n",
        "        plt.plot(*zip(*vehicle_route), '-', 'rs')\n",
        "\n",
        "    plt.title(title)\n",
        "    plt.xlabel('X Coordinate')\n",
        "    plt.ylabel('Y Coordinate')\n",
        "    plt.show()"
      ],
      "metadata": {
        "id": "QSWKcynNdGCC"
      },
      "execution_count": 99,
      "outputs": []
    },
    {
      "cell_type": "markdown",
      "source": [],
      "metadata": {
        "id": "jZKEa7jlTKS1"
      }
    },
    {
      "cell_type": "code",
      "source": [],
      "metadata": {
        "id": "AxFsbzi_YkR-"
      },
      "execution_count": null,
      "outputs": []
    },
    {
      "cell_type": "code",
      "source": [
        "def main():\n",
        "    random.seed(4)\n",
        "    pop = toolbox.population(n=300)\n",
        "    hof = tools.HallOfFame(1)\n",
        "\n",
        "    stats = tools.Statistics(lambda ind: ind.fitness.values)\n",
        "    stats.register(\"avg\", np.mean)\n",
        "    stats.register(\"min\", np.min)\n",
        "\n",
        "    algorithms.eaSimple(pop, toolbox, 0.2, 0.02, 100, stats=stats, halloffame=hof)\n",
        "\n",
        "    plot_routes(hof[0], \"Optimal Route\")\n",
        "    return pop, stats, hof\n",
        "\n",
        "if __name__ == \"__main__\":\n",
        "    main()"
      ],
      "metadata": {
        "colab": {
          "base_uri": "https://localhost:8080/",
          "height": 1000
        },
        "id": "TM0waMjtWfAI",
        "outputId": "cf60c7da-cbf3-4691-8c2c-c2a92e1d589e"
      },
      "execution_count": 103,
      "outputs": [
        {
          "output_type": "stream",
          "name": "stdout",
          "text": [
            "gen\tnevals\tavg    \tmin    \n",
            "0  \t300   \t417.374\t11.2134\n",
            "1  \t75    \t391.251\t12.3232\n",
            "2  \t70    \t374.265\t11.3076\n",
            "3  \t63    \t361.659\t15.0263\n",
            "4  \t63    \t342.778\t8.22932\n",
            "5  \t52    \t328.922\t8.22932\n",
            "6  \t79    \t318.263\t6.60065\n",
            "7  \t50    \t305.548\t6.60065\n",
            "8  \t59    \t297.789\t6.60065\n",
            "9  \t58    \t297.321\t6.60065\n",
            "10 \t65    \t296.139\t6.60065\n",
            "11 \t42    \t289.502\t6.60065\n",
            "12 \t62    \t283.063\t6.60065\n",
            "13 \t64    \t290.172\t6.60065\n",
            "14 \t55    \t291.616\t6.60065\n",
            "15 \t64    \t288.195\t6.60065\n",
            "16 \t72    \t286.816\t6.60065\n",
            "17 \t59    \t280.74 \t7.31618\n",
            "18 \t64    \t271.216\t7.31618\n",
            "19 \t73    \t268.402\t13.0015\n",
            "20 \t82    \t264.617\t13.0015\n",
            "21 \t54    \t261.353\t13.0015\n",
            "22 \t49    \t260.906\t13.7461\n",
            "23 \t46    \t261.216\t14.8911\n",
            "24 \t74    \t261.575\t14.8911\n",
            "25 \t61    \t261.513\t14.8911\n",
            "26 \t63    \t262.186\t14.8911\n",
            "27 \t59    \t260.68 \t4.41735\n",
            "28 \t62    \t260.995\t9.0126 \n",
            "29 \t66    \t260.121\t14.8911\n",
            "30 \t64    \t259.123\t14.8911\n",
            "31 \t64    \t257.869\t14.8911\n",
            "32 \t49    \t258.46 \t9.23822\n",
            "33 \t65    \t257.407\t12.6712\n",
            "34 \t61    \t257.808\t9.04168\n",
            "35 \t79    \t257.814\t15.1472\n",
            "36 \t58    \t258.164\t11.3531\n",
            "37 \t70    \t257.508\t25.4569\n",
            "38 \t83    \t257.669\t15.4037\n",
            "39 \t62    \t257.466\t13.1615\n",
            "40 \t70    \t258.331\t9.04168\n",
            "41 \t64    \t258.149\t25.4569\n",
            "42 \t56    \t257.245\t10.1446\n",
            "43 \t67    \t257.688\t25.4569\n",
            "44 \t57    \t257.452\t15.4037\n",
            "45 \t60    \t257.365\t25.4569\n",
            "46 \t75    \t257.22 \t10.1446\n",
            "47 \t56    \t256.993\t12.9699\n",
            "48 \t68    \t257.13 \t14.225 \n",
            "49 \t61    \t257.307\t25.4569\n",
            "50 \t81    \t258.113\t25.4569\n",
            "51 \t75    \t257.507\t9.23822\n",
            "52 \t61    \t257.293\t25.4569\n",
            "53 \t47    \t257.432\t14.225 \n",
            "54 \t67    \t257.07 \t10.7456\n",
            "55 \t65    \t256.94 \t25.4569\n",
            "56 \t75    \t257.883\t25.4569\n",
            "57 \t74    \t257.464\t25.4569\n",
            "58 \t73    \t257.382\t25.4569\n",
            "59 \t70    \t257.165\t9.23822\n",
            "60 \t64    \t258.276\t12.5817\n",
            "61 \t57    \t257.637\t20.0949\n",
            "62 \t68    \t257.143\t8.8839 \n",
            "63 \t58    \t257.599\t25.4569\n",
            "64 \t50    \t257.324\t25.4569\n",
            "65 \t66    \t257.474\t25.4569\n",
            "66 \t80    \t257.37 \t24.3373\n",
            "67 \t60    \t257.647\t10.9779\n",
            "68 \t57    \t257.881\t23.9496\n",
            "69 \t57    \t257.265\t15.0891\n",
            "70 \t60    \t257.296\t7.38337\n",
            "71 \t66    \t256.732\t24.3373\n",
            "72 \t60    \t255.088\t9.04168\n",
            "73 \t51    \t254.183\t10.7741\n",
            "74 \t63    \t253.729\t18.1081\n",
            "75 \t64    \t254.58 \t24.3373\n",
            "76 \t65    \t254.084\t13.994 \n",
            "77 \t51    \t254.456\t7.38337\n",
            "78 \t73    \t253.825\t13.4552\n",
            "79 \t66    \t255.169\t24.3373\n",
            "80 \t66    \t254.098\t24.3373\n",
            "81 \t54    \t254.115\t24.3373\n",
            "82 \t83    \t254.038\t24.3373\n",
            "83 \t76    \t253.712\t24.3373\n",
            "84 \t62    \t254.467\t17.6009\n",
            "85 \t65    \t255.12 \t24.3373\n",
            "86 \t63    \t254.214\t17.7021\n",
            "87 \t57    \t254.181\t24.3373\n",
            "88 \t69    \t254.77 \t13.5207\n",
            "89 \t68    \t253.754\t24.3373\n",
            "90 \t53    \t254.413\t13.6985\n",
            "91 \t82    \t254.09 \t15.2906\n",
            "92 \t58    \t254.229\t15.0628\n",
            "93 \t67    \t253.931\t15.5778\n",
            "94 \t81    \t254.572\t8.02714\n",
            "95 \t77    \t254.636\t24.3373\n",
            "96 \t76    \t254.201\t24.3373\n",
            "97 \t81    \t253.788\t12.5991\n",
            "98 \t66    \t254.632\t13.7762\n",
            "99 \t59    \t254.413\t21.0919\n",
            "100\t78    \t254.605\t13.6041\n"
          ]
        },
        {
          "output_type": "display_data",
          "data": {
            "text/plain": [
              "<Figure size 640x480 with 1 Axes>"
            ],
            "image/png": "[encoded data removed]"
          },
          "metadata": {}
        }
      ]
    }
  ]
}